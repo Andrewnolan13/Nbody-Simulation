{
 "cells": [
  {
   "cell_type": "code",
   "execution_count": 3,
   "metadata": {},
   "outputs": [
    {
     "name": "stdout",
     "output_type": "stream",
     "text": [
      "[Taichi] Starting on arch=x64\n",
      "19\r"
     ]
    }
   ],
   "source": [
    
    "#This ipynb file is a show case. Uncomment the nb.create_animation to save your simulation as a gif and mp4.\n",
    "#You must also specify save_dir='path\to\save\animation\ inside of the nb.run(). save_dir will be populated with png files and the animations will be saved there also.\n",
    "\n",
    "from nbody import NBody\n",
    "from clusters import Cluster\n",
    "import numpy as np\n",
    "import taichi as ti\n",
    "\n",
    "G = 6.67430e-11 # m^3 kg^-1 s^-2\n",
    "resolution = (640,480)\n",
    "\n",
    "Galaxy1 = Cluster(centre=np.array(resolution)/1000, centre_mass=1e13, centre_velocity=np.array(resolution)/1000)\n",
    "Galaxy1.add_belt(number=5000, distance_from_centre=min(resolution)/2, std_dev=min(resolution)/12, avg_mass=5e8, avg_velocity=(G * Galaxy1.centre_mass / min(resolution)/2)**0.5, velocity_std_dev=1)\n",
    "\n",
    "Galaxy2 = Cluster(centre=np.array(resolution), centre_mass=1e13, centre_velocity=-np.array(resolution)/1000)\n",
    "Galaxy2.add_belt(number=5000, distance_from_centre=min(resolution)/2, std_dev=min(resolution)/12, avg_mass=5e8, avg_velocity=(G * Galaxy2.centre_mass / min(resolution)/2)**0.5, velocity_std_dev=1)\n",
    "\n",
    "Galaxy = Galaxy1+Galaxy2\n",
    "\n",
    "nb = NBody(num_planets = Galaxy.num_planets, width=resolution[0], height=resolution[1], dt = 1, initial_conditions=Galaxy.generate_data())\n",
    "\n",
    "FPS = 30\n",
    "duration = 45\n",
    "\n",
    "nb.run(max_frames=FPS*duration)\n",
    "# nb.create_animation(fps = FPS)\n"
   ]
  },
  {
   "cell_type": "code",
   "execution_count": 4,
   "metadata": {},
   "outputs": [
    {
     "name": "stdout",
     "output_type": "stream",
     "text": [
      "2607\n",
      "[Taichi] Starting on arch=x64\n",
      "53\r"
     ]
    }
   ],
   "source": [
    "from nbody import NBody\n",
    "from clusters import Cluster\n",
    "import numpy as np\n",
    "import taichi as ti\n",
    "\n",
    "# Example usage:\n",
    "perp_matrix = np.array([[0,-1],[1,0]]) # perpindiculars a vector if pre-multiplied\n",
    "G = 6.67430e-11 # m^3 kg^-1 s^-2\n",
    "\n",
    "resolution = (640,480)\n",
    "\n",
    "belts = Cluster(centre=np.array(resolution)/2, centre_mass=1e12, centre_velocity=np.array([0, 0]))\n",
    "belts.add_belt(number=400, distance_from_centre=250, std_dev=250/3, avg_mass=5e8, avg_velocity=(G * belts.centre_mass / 250)**0.5, velocity_std_dev=1)\n",
    "belts.add_belt(number=700, distance_from_centre=250, std_dev=250/3, avg_mass=1e8, avg_velocity=(G * belts.centre_mass / 250)**0.5, velocity_std_dev=.1)\n",
    "belts.add_belt(number=200, distance_from_centre=400, std_dev=250/2, avg_mass=1e8, avg_velocity=(G * belts.centre_mass / 400)**0.5, velocity_std_dev=1)\n",
    "belts.add_belt(number=500, distance_from_centre=400, std_dev=100, avg_mass=1e8, avg_velocity=(G * belts.centre_mass / 200)**0.5, velocity_std_dev=.1)\n",
    "belts.add_belt(number=100, distance_from_centre=100, std_dev=2.5, avg_mass=1e8, avg_velocity=(G * belts.centre_mass / 100)**0.5, velocity_std_dev=.1)\n",
    "belts.add_belt(number=100, distance_from_centre=50, std_dev=5, avg_mass=1e8, avg_velocity=(G * belts.centre_mass / 50)**0.5, velocity_std_dev=.1)\n",
    "\n",
    "belts_data = belts.generate_data()\n",
    "\n",
    "# blob of plaents orbiting the system\n",
    "\n",
    "blob_centre =np.array([100,100])+belts.center_of_mass\n",
    "blob_velocity = blob_centre - belts.center_of_mass\n",
    "blob_velocity_norm = np.linalg.norm(blob_velocity)\n",
    "blob_velocity = blob_velocity / blob_velocity_norm\n",
    "blob_velocity = perp_matrix@blob_velocity\n",
    "blob_velocity = blob_velocity * (G * belts.total_mass / blob_velocity_norm)**0.5\n",
    "\n",
    "blob_1 = Cluster(centre=blob_centre, centre_mass=1e10, centre_velocity=blob_velocity)\n",
    "blob_1.add_belt(number=100, distance_from_centre=100, std_dev=100, avg_mass=1e9, avg_velocity=(G * blob_1.centre_mass / 100)**0.5, velocity_std_dev=0)\n",
    "\n",
    "blob_data_1 = blob_1.generate_data()\n",
    "\n",
    "# second blob of planets orbiting the system\n",
    "blob_centre =np.array([-200,200])+belts.center_of_mass\n",
    "blob_velocity = blob_centre - belts.center_of_mass\n",
    "blob_velocity_norm = np.linalg.norm(blob_velocity)\n",
    "blob_velocity = blob_velocity / blob_velocity_norm\n",
    "blob_velocity = perp_matrix@blob_velocity\n",
    "blob_velocity = blob_velocity * (G * belts.total_mass / blob_velocity_norm)**0.5\n",
    "\n",
    "blob_2 = Cluster(centre=blob_centre, centre_mass=1e10, centre_velocity=blob_velocity)\n",
    "blob_2.add_belt(number=300, distance_from_centre=50, std_dev=10, avg_mass=1e8, avg_velocity=(G * blob_2.centre_mass / 100)**0.5, velocity_std_dev=0)\n",
    "\n",
    "blob_data_2 = blob_2.generate_data()\n",
    "\n",
    "# third blob of planets orbiting the system\n",
    "blob_centre =np.array([-150,-100])+belts.center_of_mass\n",
    "blob_velocity = blob_centre - belts.center_of_mass\n",
    "blob_velocity_norm = np.linalg.norm(blob_velocity)\n",
    "blob_velocity = blob_velocity / blob_velocity_norm\n",
    "blob_velocity = perp_matrix@blob_velocity\n",
    "blob_velocity = blob_velocity * (G * belts.total_mass / blob_velocity_norm)**0.5\n",
    "\n",
    "blob_3 = Cluster(centre=blob_centre, centre_mass=1e10, centre_velocity=blob_velocity)\n",
    "blob_3.add_belt(number=200, distance_from_centre=100, std_dev=0, avg_mass=1e8, avg_velocity=(G * blob_3.centre_mass / 100)**0.5, velocity_std_dev=0)\n",
    "\n",
    "blob_data_3 = blob_3.generate_data()\n",
    "\n",
    "# initial_conditions = stack_dictionaries([belts_data,blob_data_1,blob_data_2,blob_data_3])\n",
    "solar_system = belts+blob_1+blob_2+blob_3\n",
    "print(solar_system.num_planets)\n",
    "nb = NBody(num_planets = solar_system.num_planets,width = resolution[0],height = resolution[1],dt = 1,initial_conditions= solar_system.generate_data())\n",
    "\n",
    "\n",
    "FPS = 30\n",
    "duration = 60\n",
    "\n",
    "nb.run(max_frames=FPS*duration)\n",
    "# nb.create_animation(fps = FPS)"
   ]
  },
  {
   "cell_type": "code",
   "execution_count": null,
   "metadata": {},
   "outputs": [],
   "source": []
  }
 ],
 "metadata": {
  "kernelspec": {
   "display_name": "base",
   "language": "python",
   "name": "python3"
  },
  "language_info": {
   "codemirror_mode": {
    "name": "ipython",
    "version": 3
   },
   "file_extension": ".py",
   "mimetype": "text/x-python",
   "name": "python",
   "nbconvert_exporter": "python",
   "pygments_lexer": "ipython3",
   "version": "3.9.12"
  },
  "orig_nbformat": 4
 },
 "nbformat": 4,
 "nbformat_minor": 2
}
