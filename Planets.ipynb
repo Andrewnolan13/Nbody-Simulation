{
 "cells": [
  {
   "cell_type": "code",
   "execution_count": 2,
   "metadata": {},
   "outputs": [
    {
     "name": "stdout",
     "output_type": "stream",
     "text": [
      "[Taichi] Starting on arch=x64\n",
      "output\\Galaxy Collision\n",
      "MoviePy - Building file output\\Galaxy Collision\\output_gif.gif with imageio.\n"
     ]
    },
    {
     "name": "stderr",
     "output_type": "stream",
     "text": [
      "                                                                \r"
     ]
    },
    {
     "name": "stdout",
     "output_type": "stream",
     "text": [
      "Moviepy - Building video output\\Galaxy Collision\\output_mp4.mp4.\n",
      "Moviepy - Writing video output\\Galaxy Collision\\output_mp4.mp4\n",
      "\n"
     ]
    },
    {
     "name": "stderr",
     "output_type": "stream",
     "text": [
      "                                                                 "
     ]
    },
    {
     "name": "stdout",
     "output_type": "stream",
     "text": [
      "Moviepy - Done !\n",
      "Moviepy - video ready output\\Galaxy Collision\\output_mp4.mp4\n"
     ]
    },
    {
     "name": "stderr",
     "output_type": "stream",
     "text": [
      "\r"
     ]
    }
   ],
   "source": [
    "from nbody import NBody\n",
    "from clusters import Cluster\n",
    "import numpy as np\n",
    "import taichi as ti\n",
    "\n",
    "G = 6.67430e-11 # m^3 kg^-1 s^-2\n",
    "resolution = (640,480)\n",
    "\n",
    "Galaxy1 = Cluster(centre=np.array(resolution)/1000, centre_mass=1e13, centre_velocity=np.array(resolution)/1000)\n",
    "Galaxy1.add_belt(number=5000, distance_from_centre=min(resolution)/2, std_dev=min(resolution)/12, avg_mass=5e8, avg_velocity=(G * Galaxy1.centre_mass / min(resolution)/2)**0.5, velocity_std_dev=1)\n",
    "\n",
    "Galaxy2 = Cluster(centre=np.array(resolution), centre_mass=1e13, centre_velocity=-np.array(resolution)/1000)\n",
    "Galaxy2.add_belt(number=5000, distance_from_centre=min(resolution)/2, std_dev=min(resolution)/12, avg_mass=5e8, avg_velocity=(G * Galaxy2.centre_mass / min(resolution)/2)**0.5, velocity_std_dev=1)\n",
    "\n",
    "Galaxy = Galaxy1+Galaxy2\n",
    "\n",
    "nb = NBody(num_planets = Galaxy.num_planets, width=resolution[0], height=resolution[1], dt = 1, initial_conditions=Galaxy.generate_data())\n",
    "\n",
    "FPS = 30\n",
    "duration = 45\n",
    "\n",
    "nb.run(max_frames=FPS*duration,save_dir = 'output\\\\Galaxy Collision')\n",
    "nb.create_animation(fps = FPS)\n"
   ]
  },
  {
   "cell_type": "code",
   "execution_count": 35,
   "metadata": {},
   "outputs": [
    {
     "name": "stdout",
     "output_type": "stream",
     "text": [
      "2607\n",
      "[Taichi] Starting on arch=x64\n",
      "output\\small_cluster\n",
      "MoviePy - Building file output\\small_cluster\\output_gif.gif with imageio.\n"
     ]
    },
    {
     "name": "stderr",
     "output_type": "stream",
     "text": [
      "                                                                \r"
     ]
    },
    {
     "name": "stdout",
     "output_type": "stream",
     "text": [
      "Moviepy - Building video output\\small_cluster\\output_mp4.mp4.\n",
      "Moviepy - Writing video output\\small_cluster\\output_mp4.mp4\n",
      "\n"
     ]
    },
    {
     "name": "stderr",
     "output_type": "stream",
     "text": [
      "                                                                 "
     ]
    },
    {
     "name": "stdout",
     "output_type": "stream",
     "text": [
      "Moviepy - Done !\n",
      "Moviepy - video ready output\\small_cluster\\output_mp4.mp4\n"
     ]
    },
    {
     "name": "stderr",
     "output_type": "stream",
     "text": [
      "\r"
     ]
    }
   ],
   "source": [
    "from nbody import NBody\n",
    "from clusters import Cluster\n",
    "import numpy as np\n",
    "import taichi as ti\n",
    "\n",
    "# Example usage:\n",
    "perp_matrix = np.array([[0,-1],[1,0]]) # perpindiculars a vector if pre-multiplied\n",
    "G = 6.67430e-11 # m^3 kg^-1 s^-2\n",
    "\n",
    "resolution = (640,480)\n",
    "\n",
    "belts = Cluster(centre=np.array(resolution)/2, centre_mass=1e12, centre_velocity=np.array([0, 0]))\n",
    "belts.add_belt(number=400, distance_from_centre=250, std_dev=250/3, avg_mass=5e8, avg_velocity=(G * belts.centre_mass / 250)**0.5, velocity_std_dev=1)\n",
    "belts.add_belt(number=700, distance_from_centre=250, std_dev=250/3, avg_mass=1e8, avg_velocity=(G * belts.centre_mass / 250)**0.5, velocity_std_dev=.1)\n",
    "belts.add_belt(number=200, distance_from_centre=400, std_dev=250/2, avg_mass=1e8, avg_velocity=(G * belts.centre_mass / 400)**0.5, velocity_std_dev=1)\n",
    "belts.add_belt(number=500, distance_from_centre=400, std_dev=100, avg_mass=1e8, avg_velocity=(G * belts.centre_mass / 200)**0.5, velocity_std_dev=.1)\n",
    "belts.add_belt(number=100, distance_from_centre=100, std_dev=2.5, avg_mass=1e8, avg_velocity=(G * belts.centre_mass / 100)**0.5, velocity_std_dev=.1)\n",
    "belts.add_belt(number=100, distance_from_centre=50, std_dev=5, avg_mass=1e8, avg_velocity=(G * belts.centre_mass / 50)**0.5, velocity_std_dev=.1)\n",
    "\n",
    "belts_data = belts.generate_data()\n",
    "\n",
    "# blob of plaents orbiting the system\n",
    "\n",
    "blob_centre =np.array([100,100])+belts.center_of_mass\n",
    "blob_velocity = blob_centre - belts.center_of_mass\n",
    "blob_velocity_norm = np.linalg.norm(blob_velocity)\n",
    "blob_velocity = blob_velocity / blob_velocity_norm\n",
    "blob_velocity = perp_matrix@blob_velocity\n",
    "blob_velocity = blob_velocity * (G * belts.total_mass / blob_velocity_norm)**0.5\n",
    "\n",
    "blob_1 = Cluster(centre=blob_centre, centre_mass=1e10, centre_velocity=blob_velocity)\n",
    "blob_1.add_belt(number=100, distance_from_centre=100, std_dev=100, avg_mass=1e9, avg_velocity=(G * blob_1.centre_mass / 100)**0.5, velocity_std_dev=0)\n",
    "\n",
    "blob_data_1 = blob_1.generate_data()\n",
    "\n",
    "# second blob of planets orbiting the system\n",
    "blob_centre =np.array([-200,200])+belts.center_of_mass\n",
    "blob_velocity = blob_centre - belts.center_of_mass\n",
    "blob_velocity_norm = np.linalg.norm(blob_velocity)\n",
    "blob_velocity = blob_velocity / blob_velocity_norm\n",
    "blob_velocity = perp_matrix@blob_velocity\n",
    "blob_velocity = blob_velocity * (G * belts.total_mass / blob_velocity_norm)**0.5\n",
    "\n",
    "blob_2 = Cluster(centre=blob_centre, centre_mass=1e10, centre_velocity=blob_velocity)\n",
    "blob_2.add_belt(number=300, distance_from_centre=50, std_dev=10, avg_mass=1e8, avg_velocity=(G * blob_2.centre_mass / 100)**0.5, velocity_std_dev=0)\n",
    "\n",
    "blob_data_2 = blob_2.generate_data()\n",
    "\n",
    "# third blob of planets orbiting the system\n",
    "blob_centre =np.array([-150,-100])+belts.center_of_mass\n",
    "blob_velocity = blob_centre - belts.center_of_mass\n",
    "blob_velocity_norm = np.linalg.norm(blob_velocity)\n",
    "blob_velocity = blob_velocity / blob_velocity_norm\n",
    "blob_velocity = perp_matrix@blob_velocity\n",
    "blob_velocity = blob_velocity * (G * belts.total_mass / blob_velocity_norm)**0.5\n",
    "\n",
    "blob_3 = Cluster(centre=blob_centre, centre_mass=1e10, centre_velocity=blob_velocity)\n",
    "blob_3.add_belt(number=200, distance_from_centre=100, std_dev=0, avg_mass=1e8, avg_velocity=(G * blob_3.centre_mass / 100)**0.5, velocity_std_dev=0)\n",
    "\n",
    "blob_data_3 = blob_3.generate_data()\n",
    "\n",
    "# initial_conditions = stack_dictionaries([belts_data,blob_data_1,blob_data_2,blob_data_3])\n",
    "solar_system = belts+blob_1+blob_2+blob_3\n",
    "print(solar_system.num_planets)\n",
    "nb = NBody(num_planets = solar_system.num_planets,width = resolution[0],height = resolution[1],dt = 1,initial_conditions= solar_system.generate_data())\n",
    "\n",
    "\n",
    "FPS = 30\n",
    "duration = 60\n",
    "\n",
    "nb.run(max_frames=FPS*duration,save_dir ='output\\\\small_cluster')\n",
    "nb.create_animation(fps = FPS)"
   ]
  },
  {
   "cell_type": "code",
   "execution_count": 5,
   "metadata": {},
   "outputs": [
    {
     "name": "stdout",
     "output_type": "stream",
     "text": [
      "[Taichi] Starting on arch=x64\n"
     ]
    },
    {
     "ename": "RuntimeError",
     "evalue": "[image_buffer.cpp:taichi::ArrayND<2,struct taichi::VectorND<4,float,0> >::write_as_image@93] Cannot write image file",
     "output_type": "error",
     "traceback": [
      "\u001b[1;31m---------------------------------------------------------------------------\u001b[0m",
      "\u001b[1;31mRuntimeError\u001b[0m                              Traceback (most recent call last)",
      "\u001b[1;32mc:\\Users\\andrew.nolan\\OneDrive - Allied Risk LTD\\Desktop\\Learning\\09 - Python Projects\\15 Taichi\\01 Planets\\Planets v6.ipynb Cell 3\u001b[0m in \u001b[0;36m<cell line: 7>\u001b[1;34m()\u001b[0m\n\u001b[0;32m      <a href='vscode-notebook-cell:/c%3A/Users/andrew.nolan/OneDrive%20-%20Allied%20Risk%20LTD/Desktop/Learning/09%20-%20Python%20Projects/15%20Taichi/01%20Planets/Planets%20v6.ipynb#W3sZmlsZQ%3D%3D?line=3'>4</a>\u001b[0m Galaxy1\u001b[39m.\u001b[39madd_belt(number\u001b[39m=\u001b[39m\u001b[39m5000\u001b[39m, distance_from_centre\u001b[39m=\u001b[39m\u001b[39mmin\u001b[39m(resolution)\u001b[39m/\u001b[39m\u001b[39m3\u001b[39m, std_dev\u001b[39m=\u001b[39m\u001b[39mmin\u001b[39m(resolution)\u001b[39m/\u001b[39m\u001b[39m9\u001b[39m, avg_mass\u001b[39m=\u001b[39m\u001b[39m5e7\u001b[39m, avg_velocity\u001b[39m=\u001b[39m(G \u001b[39m*\u001b[39m Galaxy1\u001b[39m.\u001b[39mcentre_mass \u001b[39m/\u001b[39m \u001b[39mmin\u001b[39m(resolution)\u001b[39m/\u001b[39m\u001b[39m2\u001b[39m)\u001b[39m*\u001b[39m\u001b[39m*\u001b[39m\u001b[39m0.5\u001b[39m, velocity_std_dev\u001b[39m=\u001b[39m\u001b[39m1\u001b[39m)\n\u001b[0;32m      <a href='vscode-notebook-cell:/c%3A/Users/andrew.nolan/OneDrive%20-%20Allied%20Risk%20LTD/Desktop/Learning/09%20-%20Python%20Projects/15%20Taichi/01%20Planets/Planets%20v6.ipynb#W3sZmlsZQ%3D%3D?line=5'>6</a>\u001b[0m nb \u001b[39m=\u001b[39m NBody(num_planets \u001b[39m=\u001b[39m Galaxy1\u001b[39m.\u001b[39mnum_planets, width\u001b[39m=\u001b[39mresolution[\u001b[39m0\u001b[39m], height\u001b[39m=\u001b[39mresolution[\u001b[39m1\u001b[39m], dt \u001b[39m=\u001b[39m \u001b[39m1\u001b[39m, initial_conditions\u001b[39m=\u001b[39mGalaxy1\u001b[39m.\u001b[39mgenerate_data())\n\u001b[1;32m----> <a href='vscode-notebook-cell:/c%3A/Users/andrew.nolan/OneDrive%20-%20Allied%20Risk%20LTD/Desktop/Learning/09%20-%20Python%20Projects/15%20Taichi/01%20Planets/Planets%20v6.ipynb#W3sZmlsZQ%3D%3D?line=6'>7</a>\u001b[0m nb\u001b[39m.\u001b[39;49mrun(max_frames\u001b[39m=\u001b[39;49m\u001b[39m100\u001b[39;49m,save_path \u001b[39m=\u001b[39;49m \u001b[39m'\u001b[39;49m\u001b[39moutput\u001b[39;49m\u001b[39m\\\\\u001b[39;49;00m\u001b[39msmall_cluster\u001b[39;49m\u001b[39m'\u001b[39;49m)\n",
      "File \u001b[1;32mc:\\Users\\andrew.nolan\\OneDrive - Allied Risk LTD\\Desktop\\Learning\\09 - Python Projects\\15 Taichi\\01 Planets\\nbody.py:96\u001b[0m, in \u001b[0;36mNBody.run\u001b[1;34m(self, max_frames, save_path)\u001b[0m\n\u001b[0;32m     94\u001b[0m func \u001b[39m=\u001b[39m \u001b[39mself\u001b[39m\u001b[39m.\u001b[39mforward(func)\n\u001b[0;32m     95\u001b[0m \u001b[39mself\u001b[39m\u001b[39m.\u001b[39msave_path \u001b[39m=\u001b[39m \u001b[39mf\u001b[39m\u001b[39m'\u001b[39m\u001b[39m{\u001b[39;00msave_path\u001b[39m}\u001b[39;00m\u001b[39m\\\\\u001b[39;00m\u001b[39m{\u001b[39;00mframe\u001b[39m:\u001b[39;00m\u001b[39m010d\u001b[39m\u001b[39m}\u001b[39;00m\u001b[39m.png\u001b[39m\u001b[39m'\u001b[39m \u001b[39mif\u001b[39;00m save_path \u001b[39mis\u001b[39;00m \u001b[39mnot\u001b[39;00m \u001b[39mNone\u001b[39;00m \u001b[39melse\u001b[39;00m \u001b[39mNone\u001b[39;00m\n\u001b[1;32m---> 96\u001b[0m \u001b[39mself\u001b[39;49m\u001b[39m.\u001b[39;49mrender(gui)\n\u001b[0;32m     97\u001b[0m \u001b[39mprint\u001b[39m(frame,end \u001b[39m=\u001b[39m \u001b[39m'\u001b[39m\u001b[39m\\r\u001b[39;00m\u001b[39m'\u001b[39m)\n\u001b[0;32m     98\u001b[0m frame\u001b[39m+\u001b[39m\u001b[39m=\u001b[39m\u001b[39m1\u001b[39m\n",
      "File \u001b[1;32mc:\\Users\\andrew.nolan\\OneDrive - Allied Risk LTD\\Desktop\\Learning\\09 - Python Projects\\15 Taichi\\01 Planets\\nbody.py:87\u001b[0m, in \u001b[0;36mNBody.render\u001b[1;34m(self, gui)\u001b[0m\n\u001b[0;32m     85\u001b[0m np_pos[:,\u001b[39m1\u001b[39m] \u001b[39m/\u001b[39m\u001b[39m=\u001b[39m \u001b[39mself\u001b[39m\u001b[39m.\u001b[39mheight\n\u001b[0;32m     86\u001b[0m gui\u001b[39m.\u001b[39mcircles(pos \u001b[39m=\u001b[39m np_pos, radius\u001b[39m=\u001b[39m\u001b[39mself\u001b[39m\u001b[39m.\u001b[39mRadii\u001b[39m.\u001b[39mto_numpy())\n\u001b[1;32m---> 87\u001b[0m gui\u001b[39m.\u001b[39;49mshow(\u001b[39mself\u001b[39;49m\u001b[39m.\u001b[39;49msave_path)\n",
      "File \u001b[1;32mc:\\Users\\andrew.nolan\\Anaconda3\\lib\\site-packages\\taichi\\ui\\gui.py:753\u001b[0m, in \u001b[0;36mGUI.show\u001b[1;34m(self, file)\u001b[0m\n\u001b[0;32m    751\u001b[0m \u001b[39mself\u001b[39m\u001b[39m.\u001b[39mcore\u001b[39m.\u001b[39mupdate()\n\u001b[0;32m    752\u001b[0m \u001b[39mif\u001b[39;00m file:\n\u001b[1;32m--> 753\u001b[0m     \u001b[39mself\u001b[39;49m\u001b[39m.\u001b[39;49mcore\u001b[39m.\u001b[39;49mscreenshot(file)\n\u001b[0;32m    754\u001b[0m \u001b[39mself\u001b[39m\u001b[39m.\u001b[39mframe \u001b[39m+\u001b[39m\u001b[39m=\u001b[39m \u001b[39m1\u001b[39m\n\u001b[0;32m    755\u001b[0m \u001b[39mself\u001b[39m\u001b[39m.\u001b[39mclear()\n",
      "\u001b[1;31mRuntimeError\u001b[0m: [image_buffer.cpp:taichi::ArrayND<2,struct taichi::VectorND<4,float,0> >::write_as_image@93] Cannot write image file"
     ]
    }
   ],
   "source": [
    "resolution = (500,500)\n",
    "\n",
    "Galaxy1 = Cluster(centre=np.array(resolution)/2, centre_mass=1e12, centre_velocity=np.zeros((2,)))\n",
    "Galaxy1.add_belt(number=5000, distance_from_centre=min(resolution)/3, std_dev=min(resolution)/9, avg_mass=5e7, avg_velocity=(G * Galaxy1.centre_mass / min(resolution)/2)**0.5, velocity_std_dev=1)\n",
    "\n",
    "nb = NBody(num_planets = Galaxy1.num_planets, width=resolution[0], height=resolution[1], dt = 1, initial_conditions=Galaxy1.generate_data())\n",
    "nb.run(max_frames=100,save_path = 'output\\\\small_cluster')"
   ]
  },
  {
   "cell_type": "code",
   "execution_count": null,
   "metadata": {},
   "outputs": [],
   "source": []
  },
  {
   "cell_type": "code",
   "execution_count": 15,
   "metadata": {},
   "outputs": [
    {
     "name": "stdout",
     "output_type": "stream",
     "text": [
      "MoviePy - Building file output\\small_cluster\\output_gif.gif with imageio.\n"
     ]
    },
    {
     "name": "stderr",
     "output_type": "stream",
     "text": [
      "                                                               \r"
     ]
    },
    {
     "name": "stdout",
     "output_type": "stream",
     "text": [
      "Moviepy - Building video output\\small_cluster\\output_mp4.mp4.\n",
      "Moviepy - Writing video output\\small_cluster\\output_mp4.mp4\n",
      "\n"
     ]
    },
    {
     "name": "stderr",
     "output_type": "stream",
     "text": [
      "                                                                "
     ]
    },
    {
     "name": "stdout",
     "output_type": "stream",
     "text": [
      "Moviepy - Done !\n",
      "Moviepy - video ready output\\small_cluster\\output_mp4.mp4\n"
     ]
    },
    {
     "name": "stderr",
     "output_type": "stream",
     "text": [
      "\r"
     ]
    }
   ],
   "source": [
    "# MAKE A VIDEO\n",
    "import os\n",
    "from moviepy.editor import ImageSequenceClip\n",
    "\n",
    "directory = 'output\\\\small_cluster'\n",
    "\n",
    "# Get a list of PNG files in the directory\n",
    "image_files = sorted([f'{directory}\\\\{file}' for file in os.listdir(directory) if file.endswith('.png')])\n",
    "\n",
    "# Create an ImageSequenceClip from the list of image files\n",
    "clip = ImageSequenceClip(image_files, fps=40)\n",
    "\n",
    "# Write the video file\n",
    "output_file = f'{directory}\\\\output_gif.gif'\n",
    "clip.to_gif(output_file,fps = 40)\n",
    "clip.write_videofile(output_file.replace('gif','mp4'), codec='libx264', fps=40)"
   ]
  },
  {
   "cell_type": "code",
   "execution_count": 6,
   "metadata": {},
   "outputs": [],
   "source": [
    "# from moviepy.editor import VideoFileClip\n",
    "\n",
    "# def resize_video(input_path,target_resolution):\n",
    "#     output_path = input_path.replace('.mp4',f'_{target_resolution[0]}x{target_resolution[1]}.mp4')    \n",
    "\n",
    "#     clip = VideoFileClip(input_path)\n",
    "#     clip_resized = clip.resize(target_resolution)\n",
    "#     clip_resized.write_videofile(output_path, codec='libx264', fps=40,preset='slow')\n",
    "\n",
    "# resize_video('output_video.mp4',(1440,3120))\n"
   ]
  },
  {
   "cell_type": "code",
   "execution_count": 7,
   "metadata": {},
   "outputs": [],
   "source": [
    "# resize_video('output_video.mp4',(1920,1200))\n"
   ]
  }
 ],
 "metadata": {
  "kernelspec": {
   "display_name": "base",
   "language": "python",
   "name": "python3"
  },
  "language_info": {
   "codemirror_mode": {
    "name": "ipython",
    "version": 3
   },
   "file_extension": ".py",
   "mimetype": "text/x-python",
   "name": "python",
   "nbconvert_exporter": "python",
   "pygments_lexer": "ipython3",
   "version": "3.9.12"
  },
  "orig_nbformat": 4
 },
 "nbformat": 4,
 "nbformat_minor": 2
}
